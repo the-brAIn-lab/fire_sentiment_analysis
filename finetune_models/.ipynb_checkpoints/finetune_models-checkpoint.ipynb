{
 "cells": [
  {
   "cell_type": "code",
   "execution_count": 9,
   "metadata": {},
   "outputs": [],
   "source": [
    "import numpy as np\n",
    "from datasets import DatasetDict, Dataset\n",
    "from transformers import (AutoTokenizer, AutoModelForSequenceClassification,\n",
    "                          TrainingArguments, Trainer, DataCollatorWithPadding,\n",
    "                          BartTokenizer, BartModel, BartForSequenceClassification)\n",
    "import evaluate\n",
    "array = np.array([0,1])"
   ]
  },
  {
   "cell_type": "code",
   "execution_count": 11,
   "metadata": {},
   "outputs": [
    {
     "name": "stderr",
     "output_type": "stream",
     "text": [
      "Some weights of BartForSequenceClassification were not initialized from the model checkpoint at facebook/bart-large-mnli and are newly initialized because the shapes did not match:\n",
      "- classification_head.out_proj.bias: found shape torch.Size([3]) in the checkpoint and torch.Size([9]) in the model instantiated\n",
      "- classification_head.out_proj.weight: found shape torch.Size([3, 1024]) in the checkpoint and torch.Size([9, 1024]) in the model instantiated\n",
      "You should probably TRAIN this model on a down-stream task to be able to use it for predictions and inference.\n"
     ]
    }
   ],
   "source": [
    "model_name = \"facebook/bart-large-mnli\"\n",
    "tokenizer = BartTokenizer.from_pretrained(model_name)\n",
    "model = BartForSequenceClassification.from_pretrained(model_name, num_labels=9, problem_type=\"multi_label_classification\", \n",
    "                                                     ignore_mismatched_sizes=True)  "
   ]
  },
  {
   "cell_type": "code",
   "execution_count": 12,
   "metadata": {},
   "outputs": [],
   "source": [
    "new_labels = [\n",
    "    'solution-focused',\n",
    "    'frustration',\n",
    "    'political',\n",
    "    'blaming',\n",
    "    'grateful',\n",
    "    'fearful or panicked',\n",
    "    'seeking help or advice',\n",
    "    'informative or news-focused'\n",
    "    'fire management related'\n",
    "]"
   ]
  },
  {
   "cell_type": "code",
   "execution_count": 1,
   "metadata": {},
   "outputs": [],
   "source": [
    "# Save model \n",
    "\n",
    "# model.save_pretrained(\"saved-model\")\n",
    "# tokenizer.save_pretrained(\"saved-model\")"
   ]
  },
  {
   "cell_type": "code",
   "execution_count": 2,
   "metadata": {},
   "outputs": [],
   "source": [
    "# Save model on hugging face \n",
    "\n",
    "# transformers-cli login  # or use token\n",
    "\n",
    "# model.push_to_hub(\"your-username/your-finetuned-model\")\n",
    "# tokenizer.push_to_hub(\"your-username/your-finetuned-model\")"
   ]
  },
  {
   "cell_type": "code",
   "execution_count": 3,
   "metadata": {},
   "outputs": [],
   "source": [
    "# Load the model like this \n",
    "\n",
    "# from_pretrained(\"your-username/your-finetuned-model\")"
   ]
  },
  {
   "cell_type": "code",
   "execution_count": null,
   "metadata": {},
   "outputs": [],
   "source": []
  },
  {
   "cell_type": "code",
   "execution_count": null,
   "metadata": {},
   "outputs": [],
   "source": []
  }
 ],
 "metadata": {
  "kernelspec": {
   "display_name": "Python 3 (ipykernel)",
   "language": "python",
   "name": "python3"
  },
  "language_info": {
   "codemirror_mode": {
    "name": "ipython",
    "version": 3
   },
   "file_extension": ".py",
   "mimetype": "text/x-python",
   "name": "python",
   "nbconvert_exporter": "python",
   "pygments_lexer": "ipython3",
   "version": "3.11.7"
  }
 },
 "nbformat": 4,
 "nbformat_minor": 4
}
