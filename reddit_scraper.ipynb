{
 "cells": [
  {
   "cell_type": "code",
   "execution_count": 61,
   "id": "7d77010d-4863-4eac-bd0f-d9c8d3523786",
   "metadata": {},
   "outputs": [
    {
     "name": "stdout",
     "output_type": "stream",
     "text": [
      "Searching in r/Missoula...\n",
      "Data saved to reddit_prescribed_burns.json\n"
     ]
    }
   ],
   "source": [
    "import praw\n",
    "import re\n",
    "import json\n",
    "from datetime import datetime\n",
    "\n",
    "# Set up Reddit API client\n",
    "reddit = praw.Reddit(\n",
    "    client_id=\"Efbot9iva7bBckLwx-Ic-g\",\n",
    "    client_secret=\"OWxn-YzLwhj0nDMPb7Ai72gQxVJjmg\",\n",
    "    user_agent=\"prescribed-burning\",  # e.g., \"prescribed_burn_study\"\n",
    ")\n",
    "\n",
    "# List of subreddits you want to search in\n",
    "subreddits = [\"Missoula\"]\n",
    "\n",
    "# List of search terms related to prescribed burns\n",
    "search_terms = [\n",
    "    \"fire\",\"smoke\"\n",
    "]\n",
    "\n",
    "# Combine search terms into a single query\n",
    "search_query = ' OR '.join(search_terms)\n",
    "\n",
    "# Initialize the results list\n",
    "results = []\n",
    "\n",
    "def matches_title(title, search_terms):\n",
    "    title_lower = title.lower()\n",
    "    for term in search_terms:\n",
    "        if term in title_lower:\n",
    "            # print(\"term: \",term)\n",
    "            # print(\"title: \",title_lower)\n",
    "            return True\n",
    "    return False\n",
    "\n",
    "# Search posts in each subreddit\n",
    "for subreddit in subreddits:\n",
    "    print(f\"Searching in r/{subreddit}...\")\n",
    "    for post in reddit.subreddit(subreddit).search(\n",
    "        ' OR '.join(search_terms),  # Combine search terms\n",
    "        limit=200,                  # Set limit as needed\n",
    "        sort=\"new\",                 # Sort by newest posts\n",
    "        time_filter=\"all\"           # Retrieve posts from all time\n",
    "    ): \n",
    "        if matches_title(post.title,search_terms):\n",
    "            post_data = {\n",
    "                \"title\": post.title,\n",
    "                \"score\": post.score,\n",
    "                \"date\": datetime.utcfromtimestamp(post.created_utc).strftime('%m-%d-%Y'),\n",
    "                \"url\": post.url,\n",
    "                \"num_comments\": post.num_comments,\n",
    "                \"comments\": [],\n",
    "                \"replies\": [],\n",
    "            }\n",
    "        \n",
    "            # Fetch comments (replace \"more comments\" and limit to 0 to get all comments)\n",
    "            post.comments.replace_more(limit=0)\n",
    "\n",
    "            # Add comments and replies to the post data\n",
    "            count = 0\n",
    "        \n",
    "            for comment in post.comments.list():  # All comments\n",
    "                if count >= 1:\n",
    "                    post_data[\"replies\"].append(comment.body)\n",
    "                else:\n",
    "                    post_data[\"comments\"].append(comment.body)\n",
    "                count += 1\n",
    "\n",
    "            # Add post data to the results list\n",
    "            results.append(post_data)\n",
    "\n",
    "# Save results to a file\n",
    "import json\n",
    "with open(\"reddit_prescribed_burns.json\", \"w\") as f:\n",
    "    json.dump(results, f, indent=4)\n",
    "\n",
    "print(\"Data saved to reddit_prescribed_burns.json\")"
   ]
  },
  {
   "cell_type": "code",
   "execution_count": null,
   "id": "aaff1cf0-ff1e-4dbd-a831-d6e9d95bf2c4",
   "metadata": {},
   "outputs": [],
   "source": []
  },
  {
   "cell_type": "code",
   "execution_count": null,
   "id": "2302758c-e899-46b8-b3dc-05a9d4580f45",
   "metadata": {},
   "outputs": [],
   "source": []
  }
 ],
 "metadata": {
  "kernelspec": {
   "display_name": "Python 3 (ipykernel)",
   "language": "python",
   "name": "python3"
  },
  "language_info": {
   "codemirror_mode": {
    "name": "ipython",
    "version": 3
   },
   "file_extension": ".py",
   "mimetype": "text/x-python",
   "name": "python",
   "nbconvert_exporter": "python",
   "pygments_lexer": "ipython3",
   "version": "3.11.7"
  }
 },
 "nbformat": 4,
 "nbformat_minor": 5
}
